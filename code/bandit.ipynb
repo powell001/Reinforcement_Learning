{
 "cells": [
  {
   "cell_type": "code",
   "execution_count": 36,
   "metadata": {},
   "outputs": [],
   "source": [
    "import numpy as np\n",
    "from numpy import random\n",
    "import matplotlib.pyplot as plt\n",
    "import seaborn as sns\n",
    "import pandas as pd\n",
    "# https://stackabuse.com/introduction-to-reinforcement-learning-with-python/"
   ]
  },
  {
   "cell_type": "code",
   "execution_count": 62,
   "metadata": {},
   "outputs": [],
   "source": [
    "# Number of bandits\n",
    "k = 5\n",
    "\n",
    "# Our action values\n",
    "Q = [0 for _ in range(k)]\n",
    "\n",
    "# This is to keep track of the number of times we take each action\n",
    "N = [0 for _ in range(k)]\n",
    "\n",
    "# Epsilon value for exploration\n",
    "eps = 0.1\n",
    "\n",
    "# True probability of winning for each bandit\n",
    "p_bandits = [0.45, 0.40, 0.80, 0.20, 0.30]\n",
    "\n",
    "def pull(a):\n",
    "    \"\"\"Pull arm of bandit with index `i` and return 1 if win, \n",
    "    else return 0.\"\"\"\n",
    "    if np.random.rand() < p_bandits[a]:\n",
    "        return 1\n",
    "    else:\n",
    "        return 0\n",
    "\n",
    "#while True:\n",
    "for x in range(600):\n",
    "    if np.random.rand() > eps:\n",
    "        # Take greedy action most of the time\n",
    "        a = np.argmax(Q)\n",
    "    else:\n",
    "        # Take random action with probability eps\n",
    "        a = np.random.randint(0, k)\n",
    "    \n",
    "    # Collect reward\n",
    "    reward = pull(a)\n",
    "    \n",
    "    # Incremental average\n",
    "    N[a] += 1\n",
    "    Q[a] += 1/N[a] * (reward - Q[a])\n",
    "    \n",
    "    x=x+1\n",
    "    "
   ]
  },
  {
   "cell_type": "code",
   "execution_count": 63,
   "metadata": {},
   "outputs": [
    {
     "name": "stdout",
     "output_type": "stream",
     "text": [
      "[16, 18, 539, 15, 12]\n",
      "[0.6250000000000001, 0.44444444444444436, 0.7940630797773658, 0.2, 0.16666666666666666]\n"
     ]
    }
   ],
   "source": [
    "print(N)\n",
    "print(Q)"
   ]
  },
  {
   "cell_type": "code",
   "execution_count": 31,
   "metadata": {},
   "outputs": [
    {
     "name": "stdout",
     "output_type": "stream",
     "text": [
      "you lose\n"
     ]
    }
   ],
   "source": [
    "k = 3\n",
    "# defining success, prob < some outcome in Normal space.\n",
    "if random.random(1) < .4:\n",
    "    print('you win')\n",
    "else: \n",
    "    print('you lose')"
   ]
  },
  {
   "cell_type": "code",
   "execution_count": 21,
   "metadata": {},
   "outputs": [
    {
     "data": {
      "image/png": "[encoded data removed]",
      "text/plain": [
       "<Figure size 432x288 with 1 Axes>"
      ]
     },
     "metadata": {
      "needs_background": "light"
     },
     "output_type": "display_data"
    },
    {
     "data": {
      "text/plain": [
       "array([-0.94033439, -0.76466992, -0.44536578, -0.27813467,  0.80129227,\n",
       "        0.6652843 , -0.09395752, -0.53628477, -0.15630718,  0.29176307,\n",
       "       -2.18916774,  1.85459633,  1.25418788,  1.48451961, -0.21788614,\n",
       "        0.14257437, -2.47545857,  0.098974  , -0.37286771, -0.39978016,\n",
       "       -1.19549354, -0.04172322,  0.31333335,  0.08091116, -0.10535461,\n",
       "       -0.11382615,  0.29891961,  0.68766424,  1.47613681,  0.20973624,\n",
       "        1.24245652, -0.24524194,  0.38315895,  0.49644047,  1.15049873,\n",
       "        0.31788531, -0.64585034, -1.2608551 , -0.08128927,  0.27129796,\n",
       "       -2.65230299,  0.98973937,  0.18733263, -1.76165276, -0.62291744,\n",
       "        0.37292884,  0.26963885,  0.19527487,  0.0419145 ,  0.65611174,\n",
       "        0.4715417 , -1.39830597,  0.28416484,  0.59226237, -1.45466   ,\n",
       "       -1.21308041, -0.74019918,  0.24133238,  0.57475619, -1.08124239,\n",
       "       -0.49128922,  1.06761895,  1.11476289, -0.78889522,  0.18124963,\n",
       "       -0.54273734,  0.8748192 , -0.50816395, -0.49847471,  0.28724745,\n",
       "        2.89542811,  0.07741255,  0.54313552, -0.21183599, -0.98694023,\n",
       "       -1.62110073,  0.28740111, -0.15504196, -0.08824136, -0.73171618,\n",
       "        0.03261888, -0.51443478,  2.27629874,  1.13307763, -0.76933761,\n",
       "       -0.2782134 ,  0.36791413,  0.07658481,  0.66742967,  0.37829843,\n",
       "       -1.59570559,  3.01175269, -1.75074302, -0.51090013,  0.7261568 ,\n",
       "        0.19136032,  0.59837283, -1.11487172,  0.62132538,  0.3345256 ])"
      ]
     },
     "execution_count": 21,
     "metadata": {},
     "output_type": "execute_result"
    }
   ],
   "source": [
    "sns.distplot(random.normal(loc=0, scale=1, size=(10000)))\n",
    "plt.show()\n",
    "\n",
    "random.normal(loc=0, scale=1, size=(100))"
   ]
  },
  {
   "cell_type": "code",
   "execution_count": 25,
   "metadata": {},
   "outputs": [
    {
     "data": {
      "text/plain": [
       "array([0.6234402])"
      ]
     },
     "execution_count": 25,
     "metadata": {},
     "output_type": "execute_result"
    }
   ],
   "source": [
    "random.random(1)"
   ]
  },
  {
   "cell_type": "code",
   "execution_count": null,
   "metadata": {},
   "outputs": [],
   "source": []
  }
 ],
 "metadata": {
  "kernelspec": {
   "display_name": "Python 3",
   "language": "python",
   "name": "python3"
  },
  "language_info": {
   "codemirror_mode": {
    "name": "ipython",
    "version": 3
   },
   "file_extension": ".py",
   "mimetype": "text/x-python",
   "name": "python",
   "nbconvert_exporter": "python",
   "pygments_lexer": "ipython3",
   "version": "3.7.6"
  }
 },
 "nbformat": 4,
 "nbformat_minor": 4
}
